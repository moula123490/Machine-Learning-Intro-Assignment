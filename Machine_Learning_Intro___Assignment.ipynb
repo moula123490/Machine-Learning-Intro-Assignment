{
  "nbformat": 4,
  "nbformat_minor": 0,
  "metadata": {
    "colab": {
      "provenance": []
    },
    "kernelspec": {
      "name": "python3",
      "display_name": "Python 3"
    },
    "language_info": {
      "name": "python"
    }
  },
  "cells": [
    {
      "cell_type": "markdown",
      "source": [
        "Question 1: Explain the differences between AI, ML, Deep Learning (DL), and Data Science (DS).\n",
        "\n",
        "-                 +-----------------------+\n",
        "                |    Artificial Intelligence     |  ← Broadest field\n",
        "                |    (AI)                        |\n",
        "                |   +----------------------+     |\n",
        "                |   | Machine Learning (ML) |     |\n",
        "                |   |  +------------------+ |     |\n",
        "                |   |  | Deep Learning (DL) |     | ← Narrower, inside ML\n",
        "                |   |  +------------------+ |     |\n",
        "                |   +----------------------+     |\n",
        "                +-------------------------------+\n",
        "                \n",
        "Data Science (DS) intersects with all of the above, but is not strictly a subset of AI or ML. It’s a broader discipline concerned with extracting insights, knowledge, and value from data, often using tools from ML/DL/AI.\n",
        "\n",
        "- Artificial Intelligence (AI)\n",
        "The broad field of creating machines or systems that can perform tasks that normally require human intelligence. This could include reasoning, perception, decision-making, language understanding, etc.\n",
        "\n",
        "- Machine Learning (ML)\n",
        "Subset of AI. Focuses on creating algorithms that allow computers to learn patterns from data and make predictions or decisions without being explicitly programmed for every scenario.\n",
        "\n",
        "- Deep Learning (DL)\n",
        "A more specialized subset of ML that works with neural networks having many layers (“deep” networks) often to automatically discover features. Especially good for tasks involving unstructured data (images, audio, text).\n",
        "\n",
        "- Data Science (DS)\n",
        "The interdisciplinary field that involves extracting meaningful insights from data. It includes data collection, cleaning, exploration/visualization, statistical modeling, ML/DL, communicating insights, etc. It’s not just about predictive models — can also be descriptive (what happened?), diagnostic (why?), predictive, prescriptive."
      ],
      "metadata": {
        "id": "NyYwWcg_DNs9"
      }
    },
    {
      "cell_type": "markdown",
      "source": [
        "Question 2: What are the types of machine learning? Describe each with one\n",
        "real-world example.\n",
        "\n",
        "- Supervised Learning\n",
        "\n",
        "  - Definition: The algorithm is trained on a labeled dataset, meaning for each input you have the correct output. The model learns a mapping from inputs → outputs.\n",
        "\n",
        "  - Sub‐types:\n",
        "\n",
        " - Classification (when outputs are categories)\n",
        "\n",
        "  - Regression (when outputs are real/continuous values)\n",
        "\n",
        "  - Example: Predicting house prices. You feed the model historical data where features are things like square footage, number of bedrooms, location, etc., and the label is the actual sale price. After training, given a new house, the model predicts its likely price.\n",
        "\n",
        "- Unsupervised Learning\n",
        "\n",
        "  - Definition: The algorithm works with unlabeled data. There are no explicit “correct outputs” provided. The goal is to find structure in the data: clusters, patterns, correlations, dimensionality reduction, association, etc.\n",
        "\n",
        "   - Sub‐types:\n",
        "\n",
        "   - Clustering (grouping similar items)\n",
        "\n",
        "   - Association (e.g. rules like if a person buys X, often buys Y)\n",
        "\n",
        "   - Dimensionality reduction (simplifying the data representation while keeping key structure)\n",
        "\n",
        "   - Example: Customer segmentation for marketing. Suppose you have purchase histories of many users but no labels grouping them. The algorithm groups customers with similar buying behaviour (e.g. frequent small purchases, rare big purchases, etc.). Marketers then target these groups differently.\n",
        "\n",
        "- Reinforcement Learning (RL)\n",
        "\n",
        "  - Definition: In reinforcement learning, an agent interacts with an environment, taking actions and receiving feedback (rewards or penalties). Over time it learns a policy (a strategy) that maximises cumulative reward. Unlike supervised learning, the agent is not told the correct action at each step, but must discover it through trial and error.\n",
        "\n",
        "  - Example: A self-driving car learning to navigate by trial and error: if it stays in lane and avoids collisions, it gets positive rewards; if it makes mistakes, negative. Over many interactions it learns optimal driving behaviour."
      ],
      "metadata": {
        "id": "Hjv4muKfFbLX"
      }
    },
    {
      "cell_type": "markdown",
      "source": [
        "Question 3: Define overfitting, underfitting, and the bias-variance tradeoff in machine\n",
        "learning.\n",
        "\n",
        "- Overfitting\n",
        "\n",
        "Definition: Overfitting happens when a machine learning model learns not only the underlying pattern in the training data, but also the noise, random fluctuations, or idiosyncrasies of that specific data set. As a result, the model performs very well on the training data (low training error) but poorly on new, unseen data (high test/validation error).\n",
        "\n",
        "- Underfitting\n",
        "\n",
        "Definition: Underfitting is when the model is too simple to capture the underlying structure of the data. It fails to learn sufficiently from the training data, resulting in both high training error and high test/validation error. In short, it neither fits the training data well nor generalizes.\n",
        "\n",
        "- Bias-Variance Tradeoff\n",
        "\n",
        "This is a central idea that ties together overfitting and underfitting, and helps in understanding how to build models that generalize well.\n",
        "\n",
        " - Bias: Error from assumptions in the learning algorithm. High bias means the model is too simple, makes strong assumptions, misses relevant relations, and underfits. The model’s predictions are consistently off in some direction because of its simplicity.\n",
        " - Variance: Error from sensitivity to small fluctuations in the training data. High variance means the model fits the training data closely (including noise), so its predictions change a lot with different training data sets. This can lead to overfitting.\n",
        " - Irreducible error (Noise): There is usually some amount of error/noise inherent in the data that no model can get rid of (measurement errors, randomness). Even a perfect model in theory can’t predict that. This is important in understanding why error doesn’t go to zero."
      ],
      "metadata": {
        "id": "sGmfEHoVGIl7"
      }
    },
    {
      "cell_type": "markdown",
      "source": [
        "Question 4: What are outliers in a dataset, and list three common techniques for\n",
        "handling them.\n",
        "\n",
        "- What is an Outlier\n",
        "\n",
        "An outlier is a data point (or several points) that deviate significantly from the rest of the observations in a dataset. It lies far away from what is considered “normal” behavior of the data.\n",
        "- Types of outliers:\n",
        "\n",
        " - Univariate outliers — unusual values in a single variable, ignoring other variables.\n",
        " - Multivariate outliers — points that may look “OK” in each single variable but are odd when considering multiple variables together (e.g. height-vs-weight combinations)\n",
        " - Contextual outliers — where a value is outlying only in a certain context (e.g. time of day, season)\n",
        " - Collective outliers — a group of data points which, together, form a pattern that is unusual even though individually they may not be far from the rest.\n",
        "\n",
        "- Effects of outliers: They can skew statistics (mean, variance), distort distributions, mislead machine learning models (especially ones sensitive to outlier influence), or lead to overfit/underfit issues."
      ],
      "metadata": {
        "id": "dBjYcpwWGf-u"
      }
    },
    {
      "cell_type": "markdown",
      "source": [
        "Question 5: Explain the process of handling missing values and mention one\n",
        "imputation technique for numerical and one for categorical data.\n",
        "\n",
        "- Process of Handling Missing Values\n",
        "\n",
        "When dealing with missing data, a structured process helps ensure that your decisions are principled and minimize bias, loss of information, or misleading results. Below are typical steps:\n",
        "- Understand / Explore the Missingness\n",
        "\n",
        "  - Quantify: How many missing values per feature, what fraction of rows are missing data, etc.\n",
        "\n",
        "  - Patterns: Are missing values random or systematic? E.g. all missing in certain rows, or correlate with other variables.\n",
        "\n",
        "  - Mechanism of missingness: Understand whether missingness is\n",
        "    - • MCAR (Missing Completely At Random) — missingness independent of any observed or unobserved data,\n",
        "    - • MAR (Missing At Random) — missing depends on observed data, not the values that are themselves missing,\n",
        "    - • MNAR (Missing Not At Random) — missingness depends on unobserved values themselves.Knowing this helps in choosing methods.\n",
        "- Decide whether to remove or impute\n",
        "\n",
        "  - If only a small proportion of data is missing, you might drop rows that have missing values.\n",
        "\n",
        "   - If a full feature has many missing values, consider dropping that feature if it's not crucial or the missingness too large.\n",
        "\n",
        "   - But dropping can reduce statistical power, introduce bias (if missingness is not MCAR).  \n",
        "\n",
        "Choose imputation or other methods to fill or handle missing values\n",
        "\n",
        " - Imputation: filling in missing entries in a way that tries to preserve distributions, relations, etc.\n",
        "\n",
        " - Using models to predict missing values.\n",
        "\n",
        " - For some cases, create indicators (flags) for “was missing” so model can learn that missingness itself might carry information.\n",
        "\n",
        "- Implement / apply the chosen method(s)\n",
        "\n",
        "  - Univariate imputation: based on that individual feature only (mean, median, mode etc.).\n",
        "\n",
        "  - Multivariate imputation: uses other features to predict the missing ones (KNN, regression, multiple imputation by chained equations, etc.)."
      ],
      "metadata": {
        "id": "ua7dGt8SIAt6"
      }
    },
    {
      "cell_type": "code",
      "source": [
        "'''Question 6: Write a Python program that:\n",
        "● Creates a synthetic imbalanced dataset with make_classification() from\n",
        "sklearn.datasets.\n",
        "● Prints the class distribution'''\n",
        "\n",
        "from sklearn.datasets import make_classification\n",
        "from collections import Counter\n",
        "\n",
        "def create_imbalanced_dataset(n_samples=1000, n_features=20,\n",
        "                               n_classes=2, weights=[0.9, 0.1],\n",
        "                               random_state=42):\n",
        "    \"\"\"\n",
        "    Create a classification dataset with class imbalance.\n",
        "\n",
        "    Args:\n",
        "        n_samples (int): Number of samples\n",
        "        n_features (int): Number of features\n",
        "        n_classes (int): Number of classes\n",
        "        weights (list of floats): Proportion of each class. Sum should be 1 or specify up to n_classes-1\n",
        "        random_state (int): Seed for reproducibility\n",
        "\n",
        "    Returns:\n",
        "        X (array): feature matrix\n",
        "        y (array): target labels\n",
        "    \"\"\"\n",
        "    X, y = make_classification(n_samples=n_samples,\n",
        "                               n_features=n_features,\n",
        "                               n_informative=int(n_features * 0.6),\n",
        "                               n_redundant=int(n_features * 0.2),\n",
        "                               n_repeated=0,\n",
        "                               n_classes=n_classes,\n",
        "                               weights=weights,\n",
        "                               flip_y=0,\n",
        "                               class_sep=1.0,\n",
        "                               random_state=random_state)\n",
        "    return X, y\n",
        "\n",
        "def print_class_distribution(y):\n",
        "    counter = Counter(y)\n",
        "    total = len(y)\n",
        "    print(\"Class distribution:\")\n",
        "    for cls, count in sorted(counter.items()):\n",
        "        pct = count / total * 100\n",
        "        print(f\"  Class {cls}: {count} samples ({pct:.2f}%)\")\n",
        "\n",
        "if __name__ == \"__main__\":\n",
        "    # Create imbalanced dataset, e.g. 90% class 0, 10% class 1\n",
        "    X, y = create_imbalanced_dataset(n_samples=1000, weights=[0.9, 0.1], random_state=0)\n",
        "    print_class_distribution(y)\n"
      ],
      "metadata": {
        "colab": {
          "base_uri": "https://localhost:8080/"
        },
        "id": "vlK9DOeKJCwk",
        "outputId": "be4ee5d2-e985-4adf-bb96-0c7731592c31"
      },
      "execution_count": 1,
      "outputs": [
        {
          "output_type": "stream",
          "name": "stdout",
          "text": [
            "Class distribution:\n",
            "  Class 0: 900 samples (90.00%)\n",
            "  Class 1: 100 samples (10.00%)\n"
          ]
        }
      ]
    },
    {
      "cell_type": "code",
      "source": [
        "# Question 7: Implement one-hot encoding using pandas for the following list of colors:['Red', 'Green', 'Blue', 'Green', 'Red']. Print the resulting dataframe\n",
        "\n",
        "import pandas as pd\n",
        "\n",
        "# Original list\n",
        "colors = ['Red', 'Green', 'Blue', 'Green', 'Red']\n",
        "\n",
        "# Put into a DataFrame\n",
        "df = pd.DataFrame({'Color': colors})\n",
        "\n",
        "# Do one-hot encoding\n",
        "df_encoded = pd.get_dummies(df, columns=['Color'], prefix='Color')\n",
        "\n",
        "print(df_encoded)\n",
        "\n",
        "\n"
      ],
      "metadata": {
        "colab": {
          "base_uri": "https://localhost:8080/"
        },
        "id": "MV0VPuGiJUGr",
        "outputId": "49ea6998-924c-407e-8bf1-38d7c1799a73"
      },
      "execution_count": 2,
      "outputs": [
        {
          "output_type": "stream",
          "name": "stdout",
          "text": [
            "   Color_Blue  Color_Green  Color_Red\n",
            "0       False        False       True\n",
            "1       False         True      False\n",
            "2        True        False      False\n",
            "3       False         True      False\n",
            "4       False        False       True\n"
          ]
        }
      ]
    },
    {
      "cell_type": "code",
      "source": [
        "'''Question 8: Write a Python script to:\n",
        "● Generate 1000 samples from a normal distribution.\n",
        "● Introduce 50 random missing values.\n",
        "● Fill missing values with the column mean.\n",
        "● Plot a histogram before and after imputation\n",
        "'''\n",
        "\n",
        "import numpy as np\n",
        "import pandas as pd\n",
        "import matplotlib.pyplot as plt\n",
        "\n",
        "# 1. Generate 1000 samples from a normal distribution\n",
        "np.random.seed(0)  # for reproducibility\n",
        "data = np.random.normal(loc=0, scale=1, size=1000)\n",
        "\n",
        "# Put into a DataFrame\n",
        "df = pd.DataFrame({'Value': data})\n",
        "\n",
        "# 2. Introduce 50 random missing values\n",
        "n_missing = 50\n",
        "missing_indices = np.random.choice(df.index, size=n_missing, replace=False)\n",
        "df.loc[missing_indices, 'Value'] = np.nan\n",
        "\n",
        "# 3. Fill missing values with the column mean\n",
        "mean_value = df['Value'].mean()  # pandas skipna=True by default\n",
        "df_imputed = df.copy()\n",
        "df_imputed['Value'] = df_imputed['Value'].fillna(mean_value)\n",
        "\n",
        "# 4. Plot histograms before and after imputation\n",
        "plt.figure(figsize=(12, 5))\n",
        "\n",
        "# Before imputation (dropping NaNs for plotting)\n",
        "plt.subplot(1, 2, 1)\n",
        "plt.hist(df['Value'].dropna(), bins=30, color='skyblue', edgecolor='black')\n",
        "plt.title('Histogram Before Imputation')\n",
        "plt.xlabel('Value')\n",
        "plt.ylabel('Frequency')\n",
        "\n",
        "# After imputation\n",
        "plt.subplot(1, 2, 2)\n",
        "plt.hist(df_imputed['Value'], bins=30, color='salmon', edgecolor='black')\n",
        "plt.title('Histogram After Imputation (Mean Fill)')\n",
        "plt.xlabel('Value')\n",
        "plt.ylabel('Frequency')\n",
        "\n",
        "plt.tight_layout()\n",
        "plt.show()\n",
        "\n",
        "# Optional: Print mean, count of missing values etc.\n",
        "print(f\"Original data missing count: {df['Value'].isnull().sum()}\")\n",
        "print(f\"Mean used for imputation: {mean_value:.4f}\")\n"
      ],
      "metadata": {
        "colab": {
          "base_uri": "https://localhost:8080/",
          "height": 514
        },
        "id": "S72Gl1_1JkMH",
        "outputId": "c5232c95-b5d1-44de-e644-8eee4ff82c68"
      },
      "execution_count": 4,
      "outputs": [
        {
          "output_type": "display_data",
          "data": {
            "text/plain": [
              "<Figure size 1200x500 with 2 Axes>"
            ],
            "image/png": "[encoded data removed]"
          },
          "metadata": {}
        },
        {
          "output_type": "stream",
          "name": "stdout",
          "text": [
            "Original data missing count: 50\n",
            "Mean used for imputation: -0.0421\n"
          ]
        }
      ]
    },
    {
      "cell_type": "code",
      "source": [
        "'''Question 9: Implement Min-Max scaling on the following list of numbers [2, 5, 10, 15,\n",
        "20] using sklearn.preprocessing.MinMaxScaler. Print the scaled array.'''\n",
        "\n",
        "from sklearn.preprocessing import MinMaxScaler\n",
        "import numpy as np\n",
        "\n",
        "# Original data\n",
        "data = np.array([2, 5, 10, 15, 20]).reshape(-1, 1)  # Need shape (n_samples, n_features)\n",
        "\n",
        "# Create scaler (default feature_range is (0,1))\n",
        "scaler = MinMaxScaler()\n",
        "\n",
        "# Fit & transform\n",
        "scaled = scaler.fit_transform(data)\n",
        "\n",
        "print(\"Original:\", data.flatten())\n",
        "print(\"Scaled:\", scaled.flatten())\n"
      ],
      "metadata": {
        "colab": {
          "base_uri": "https://localhost:8080/"
        },
        "id": "XW1yGghPJ094",
        "outputId": "3f8bd325-be03-4e25-e693-6248fefcef58"
      },
      "execution_count": 5,
      "outputs": [
        {
          "output_type": "stream",
          "name": "stdout",
          "text": [
            "Original: [ 2  5 10 15 20]\n",
            "Scaled: [0.         0.16666667 0.44444444 0.72222222 1.        ]\n"
          ]
        }
      ]
    },
    {
      "cell_type": "markdown",
      "source": [
        "'''\n",
        "Question 10: You are working as a data scientist for a retail company. You receive a customer\n",
        "transaction dataset that contains:\n",
        "- ● Missing ages,\n",
        "- ● Outliers in transaction amount,\n",
        "- ● A highly imbalanced target (fraud vs. non-fraud),\n",
        "- ● Categorical variables like payment method.\n",
        "\n",
        "Explain the step-by-step data preparation plan you’d follow before training a machine learning\n",
        "model. Include how you’d address missing data, outliers, imbalance, and encoding.\n",
        "\n",
        "'''\n",
        "\n",
        "- 1) Handling missing ages\n",
        "\n",
        "Investigate first\n",
        "\n",
        "Check % missing and whether missingness correlates with other columns (MCAR, MAR, MNAR). If MNAR, document it and consult domain experts — imputation alone may bias results.\n",
        "\n",
        "- What to do\n",
        "\n",
        "Create a binary indicator age_was_missing = 1/0 (missingness itself can be predictive).\n",
        "\n",
        "Prefer a multivariate imputer that uses other columns to predict age (IterativeImputer / MICE) or KNNImputer over blind mean/median when relationships exist. Simple mean/median is OK if missingness is tiny and you want a quick baseline.\n",
        "\n",
        "- 2) Handling outliers in transaction amount\n",
        "\n",
        "   - Detect\n",
        "\n",
        "      - Try multiple detectors: Tukey/IQR (boxplot rules), standard Z-score (if roughly normal), and modified z-score / MAD (robust for skewed money data). For heavy skew use MAD/modified z-score.\n",
        "\n",
        "- 3) Handling the highly imbalanced target (fraud vs non-fraud)\n",
        "  - Algorithmic weighting: use class_weight='balanced' (or compute_class_weight) for many sklearn models so minority class errors are penalized more.\n",
        "  - Resampling (only on training folds!): SMOTE / ADASYN to synthesize minority examples, or careful undersampling of the majority. Use the imblearn implementations (SMOTE).\n",
        "  - Ensembles & specialized methods: balanced random forests, anomaly detection models for extreme rarity.\n",
        "  - Evaluation & thresholding: focus on precision/recall (or PR-AUC / average precision) and choose thresholds based on the business tradeoff (cost of false negatives vs false positives). ROC-AUC can be misleading on extreme imbalance — prefer PR-AUC / F1 / precision@k."
      ],
      "metadata": {
        "id": "-2MxChQLK4VC"
      }
    },
    {
      "cell_type": "code",
      "source": [
        "\n",
        "import numpy as np\n",
        "import pandas as pd\n",
        "from sklearn.compose import ColumnTransformer\n",
        "from sklearn.pipeline import Pipeline\n",
        "from imblearn.pipeline import Pipeline as ImbPipeline\n",
        "from sklearn.impute import SimpleImputer, IterativeImputer\n",
        "from sklearn.preprocessing import OneHotEncoder, RobustScaler\n",
        "from imblearn.over_sampling import SMOTE\n",
        "from sklearn.ensemble import RandomForestClassifier\n",
        "from sklearn.model_selection import StratifiedKFold, cross_validate\n",
        "\n",
        "# columns\n",
        "num_features = ['age', 'transaction_amount', 'other_num1']\n",
        "cat_features = ['payment_method', 'card_type']\n",
        "\n",
        "# numerical pipeline (age: iterative, amount: robust scaling)\n",
        "num_pipeline = Pipeline([\n",
        "    ('impute_num', IterativeImputer(random_state=0)),        # multivariate imputation for numeric\n",
        "    ('scale', RobustScaler())\n",
        "])\n",
        "\n",
        "# categorical pipeline\n",
        "cat_pipeline = Pipeline([\n",
        "    ('impute_cat', SimpleImputer(strategy='most_frequent')), # fill missing category\n",
        "    ('ohe', OneHotEncoder(handle_unknown='ignore', sparse=False))\n",
        "])\n",
        "\n",
        "preprocessor = ColumnTransformer([\n",
        "    ('num', num_pipeline, num_features),\n",
        "    ('cat', cat_pipeline, cat_features)\n",
        "], remainder='drop')\n",
        "\n",
        "# full pipeline with SMOTE (only applied during fit on training folds)\n",
        "model = ImbPipeline([\n",
        "    ('preproc', preprocessor),\n",
        "    ('smote', SMOTE(random_state=0)),\n",
        "    ('clf', RandomForestClassifier(class_weight='balanced', n_estimators=200, random_state=0))\n",
        "])\n",
        "\n",
        "# cross-validate with stratified folds and PR-AUC (average_precision)\n",
        "cv = StratifiedKFold(n_splits=5, shuffle=True, random_state=0)\n",
        "scores = cross_validate(model, X, y, cv=cv, scoring=['average_precision', 'precision', 'recall', 'f1'])\n",
        "print({k: np.mean(v) for k, v in scores.items()})\n"
      ],
      "metadata": {
        "id": "KwZWcd4mLkKQ"
      },
      "execution_count": 9,
      "outputs": []
    }
  ]
}